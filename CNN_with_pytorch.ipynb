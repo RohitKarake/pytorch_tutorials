{
  "nbformat": 4,
  "nbformat_minor": 0,
  "metadata": {
    "colab": {
      "provenance": [],
      "authorship_tag": "ABX9TyNNnf8ACB4dNDQnqIIOKins",
      "include_colab_link": true
    },
    "kernelspec": {
      "name": "python3",
      "display_name": "Python 3"
    },
    "language_info": {
      "name": "python"
    }
  },
  "cells": [
    {
      "cell_type": "markdown",
      "metadata": {
        "id": "view-in-github",
        "colab_type": "text"
      },
      "source": [
        "<a href=\"https://colab.research.google.com/github/RohitKarake/pytorch_tutorials/blob/main/CNN_with_pytorch.ipynb\" target=\"_parent\"><img src=\"https://colab.research.google.com/assets/colab-badge.svg\" alt=\"Open In Colab\"/></a>"
      ]
    },
    {
      "cell_type": "code",
      "execution_count": 1,
      "metadata": {
        "id": "h-LOX4L1ffT7"
      },
      "outputs": [],
      "source": [
        "import torch\n",
        "import torch.nn as nn\n",
        "import torch.nn.functional as F\n",
        "from torch.utils.data import DataLoader\n",
        "from torchvision import datasets, transforms\n",
        "from torchvision.utils import make_grid\n",
        "\n",
        "import numpy as np\n",
        "import pandas as pd\n",
        "from sklearn.metrics import confusion_matrix\n",
        "import matplotlib.pyplot as plt\n",
        "%matplotlib inline"
      ]
    },
    {
      "cell_type": "code",
      "source": [
        "# Convert MNIST Image Files into a Tensor of 4-Dimensions (No. of images, Height, Width, Channels)\n",
        "transform = transforms.ToTensor()"
      ],
      "metadata": {
        "id": "LYQHLJ2Gz3H1"
      },
      "execution_count": 2,
      "outputs": []
    },
    {
      "cell_type": "code",
      "source": [
        "# Train Data\n",
        "train_data = datasets.MNIST(root='/cnn_data', train=True, download=True, transform=transform)"
      ],
      "metadata": {
        "colab": {
          "base_uri": "https://localhost:8080/"
        },
        "id": "FTYCRJiv0xfO",
        "outputId": "0b0d1a80-e3b2-4833-b987-a3f689c6f3cb"
      },
      "execution_count": 3,
      "outputs": [
        {
          "output_type": "stream",
          "name": "stderr",
          "text": [
            "100%|██████████| 9.91M/9.91M [00:00<00:00, 53.3MB/s]\n",
            "100%|██████████| 28.9k/28.9k [00:00<00:00, 1.69MB/s]\n",
            "100%|██████████| 1.65M/1.65M [00:00<00:00, 14.5MB/s]\n",
            "100%|██████████| 4.54k/4.54k [00:00<00:00, 6.54MB/s]\n"
          ]
        }
      ]
    },
    {
      "cell_type": "code",
      "source": [
        "# Test Data\n",
        "test_data = datasets.MNIST(root='/cnn_data', train=False, download=True, transform=transform)"
      ],
      "metadata": {
        "id": "fAMREHAh1GnO"
      },
      "execution_count": 4,
      "outputs": []
    },
    {
      "cell_type": "code",
      "source": [
        "train_data"
      ],
      "metadata": {
        "colab": {
          "base_uri": "https://localhost:8080/"
        },
        "id": "_YG9IkFw1gVi",
        "outputId": "22553c8e-8a4e-44de-cf75-abe364e309a4"
      },
      "execution_count": 5,
      "outputs": [
        {
          "output_type": "execute_result",
          "data": {
            "text/plain": [
              "Dataset MNIST\n",
              "    Number of datapoints: 60000\n",
              "    Root location: /cnn_data\n",
              "    Split: Train\n",
              "    StandardTransform\n",
              "Transform: ToTensor()"
            ]
          },
          "metadata": {},
          "execution_count": 5
        }
      ]
    },
    {
      "cell_type": "code",
      "source": [
        "test_data"
      ],
      "metadata": {
        "colab": {
          "base_uri": "https://localhost:8080/"
        },
        "id": "4SBLHiLrcHPR",
        "outputId": "46f5330c-2d94-4488-d8f3-9c80d0316ccc"
      },
      "execution_count": 25,
      "outputs": [
        {
          "output_type": "execute_result",
          "data": {
            "text/plain": [
              "Dataset MNIST\n",
              "    Number of datapoints: 10000\n",
              "    Root location: /cnn_data\n",
              "    Split: Test\n",
              "    StandardTransform\n",
              "Transform: ToTensor()"
            ]
          },
          "metadata": {},
          "execution_count": 25
        }
      ]
    },
    {
      "cell_type": "code",
      "source": [
        "# Create a small batch size for images (10 images)\n",
        "train_loader = DataLoader(train_data, batch_size=10, shuffle=True)\n",
        "test_loader = DataLoader(test_data, batch_size=10, shuffle=True)"
      ],
      "metadata": {
        "id": "WmmJlT8T1h-p"
      },
      "execution_count": 6,
      "outputs": []
    },
    {
      "cell_type": "code",
      "source": [
        "# Define our CNN Model\n",
        "# Describe on convolutional layer and what its doing (2 conv layers)\n",
        "\n",
        "conv1 = nn.Conv2d(1, 6, 3, 1)   #number of input channels, number of kernels, kernel size, stride\n",
        "conv2 = nn.Conv2d(6, 16, 3, 1)"
      ],
      "metadata": {
        "id": "HQWhNqQK3BYR"
      },
      "execution_count": 7,
      "outputs": []
    },
    {
      "cell_type": "code",
      "source": [
        "## For grey scale image number of input channels = 1\n",
        "## For RGB image number of input channels = 3"
      ],
      "metadata": {
        "id": "6cla8ctzH08k"
      },
      "execution_count": null,
      "outputs": []
    },
    {
      "cell_type": "code",
      "source": [
        "# Grab 1 MNIST record/image\n",
        "for i, (X_Train, y_train) in enumerate(train_data):\n",
        "  break"
      ],
      "metadata": {
        "id": "r8XiPruv4NQO"
      },
      "execution_count": 8,
      "outputs": []
    },
    {
      "cell_type": "code",
      "source": [
        "X_Train.shape"
      ],
      "metadata": {
        "colab": {
          "base_uri": "https://localhost:8080/"
        },
        "id": "bT37U_Lp4Yfw",
        "outputId": "4c124037-6a66-4eda-afd9-dbdad5370a2d"
      },
      "execution_count": 9,
      "outputs": [
        {
          "output_type": "execute_result",
          "data": {
            "text/plain": [
              "torch.Size([1, 28, 28])"
            ]
          },
          "metadata": {},
          "execution_count": 9
        }
      ]
    },
    {
      "cell_type": "code",
      "source": [
        "# reshape to 4d\n",
        "x = X_Train.view(1,1,28,28)  #(number of images, channels, height, width)"
      ],
      "metadata": {
        "id": "nzqI1WOD4ebL"
      },
      "execution_count": 10,
      "outputs": []
    },
    {
      "cell_type": "code",
      "source": [
        "# Perform our first convolution\n",
        "x = F.relu(conv1(x))"
      ],
      "metadata": {
        "id": "4Ij2nGj_45qz"
      },
      "execution_count": 11,
      "outputs": []
    },
    {
      "cell_type": "code",
      "source": [
        "x.shape"
      ],
      "metadata": {
        "colab": {
          "base_uri": "https://localhost:8080/"
        },
        "id": "IeiswC6y5G-1",
        "outputId": "e2bbb752-f6c1-4ec2-b9b9-836caaecf2cd"
      },
      "execution_count": 12,
      "outputs": [
        {
          "output_type": "execute_result",
          "data": {
            "text/plain": [
              "torch.Size([1, 6, 26, 26])"
            ]
          },
          "metadata": {},
          "execution_count": 12
        }
      ]
    },
    {
      "cell_type": "code",
      "source": [
        "# pass through pooling layer\n",
        "x = F.max_pool2d(x, 2, 2)  # kernal of 2 and stride of 2"
      ],
      "metadata": {
        "id": "Yr6wJdEp5IHW"
      },
      "execution_count": 13,
      "outputs": []
    },
    {
      "cell_type": "code",
      "source": [
        "x.shape"
      ],
      "metadata": {
        "colab": {
          "base_uri": "https://localhost:8080/"
        },
        "id": "cSWD7NKa5xaU",
        "outputId": "8e79b135-678b-4f0b-d348-1cc04e2efc60"
      },
      "execution_count": 14,
      "outputs": [
        {
          "output_type": "execute_result",
          "data": {
            "text/plain": [
              "torch.Size([1, 6, 13, 13])"
            ]
          },
          "metadata": {},
          "execution_count": 14
        }
      ]
    },
    {
      "cell_type": "code",
      "source": [
        "x = F.relu(conv2(x))"
      ],
      "metadata": {
        "id": "5g-f1cpF5yvh"
      },
      "execution_count": 15,
      "outputs": []
    },
    {
      "cell_type": "code",
      "source": [
        "x.shape"
      ],
      "metadata": {
        "colab": {
          "base_uri": "https://localhost:8080/"
        },
        "id": "6zfZ7DjH6IWc",
        "outputId": "2151eee0-fb58-4a81-e41e-6e040bae1775"
      },
      "execution_count": 16,
      "outputs": [
        {
          "output_type": "execute_result",
          "data": {
            "text/plain": [
              "torch.Size([1, 16, 11, 11])"
            ]
          },
          "metadata": {},
          "execution_count": 16
        }
      ]
    },
    {
      "cell_type": "code",
      "source": [
        "x = F.max_pool2d(x, 2, 2)\n",
        "x.shape"
      ],
      "metadata": {
        "colab": {
          "base_uri": "https://localhost:8080/"
        },
        "id": "ZfHEcpLf6JOo",
        "outputId": "d95f8fa1-3ccc-413f-da58-01ba197b38fe"
      },
      "execution_count": 17,
      "outputs": [
        {
          "output_type": "execute_result",
          "data": {
            "text/plain": [
              "torch.Size([1, 16, 5, 5])"
            ]
          },
          "metadata": {},
          "execution_count": 17
        }
      ]
    },
    {
      "cell_type": "code",
      "source": [
        "# Model Class\n",
        "class CNN_Neural_Network(nn.Module):\n",
        "  def __init__(self):\n",
        "    super().__init__()\n",
        "    self.conv1 = nn.Conv2d(1, 6, 3, 1)\n",
        "    self.conv2 = nn.Conv2d(6, 16, 3, 1)\n",
        "    self.fc1 = nn.Linear(5*5*16, 120)\n",
        "    self.fc2 = nn.Linear(120, 80)\n",
        "    self.fc3 = nn.Linear(80, 10)\n",
        "\n",
        "  def forward(self, X):\n",
        "    X = F.relu(self.conv1(X))\n",
        "    X = F.max_pool2d(X, 2, 2)\n",
        "    X = F.relu(self.conv2(X))\n",
        "    X = F.max_pool2d(X, 2, 2)\n",
        "\n",
        "    #re-view to flatten the previous layer\n",
        "    X = X.view(-1, 5*5*16)\n",
        "\n",
        "    #Fully connected layer\n",
        "    X = F.relu(self.fc1(X))\n",
        "    X = F.relu(self.fc2(X))\n",
        "    X = self.fc3(X)\n",
        "\n",
        "    return F.log_softmax(X, dim=1)"
      ],
      "metadata": {
        "id": "65ul9Gsz6WIv"
      },
      "execution_count": 18,
      "outputs": []
    },
    {
      "cell_type": "code",
      "source": [
        "torch.manual_seed(41)\n",
        "model = CNN_Neural_Network()\n",
        "model"
      ],
      "metadata": {
        "colab": {
          "base_uri": "https://localhost:8080/"
        },
        "id": "IDQwYaJYIAQL",
        "outputId": "ed75f226-8454-400d-a82c-6855eafdad5e"
      },
      "execution_count": 20,
      "outputs": [
        {
          "output_type": "execute_result",
          "data": {
            "text/plain": [
              "CNN_Neural_Network(\n",
              "  (conv1): Conv2d(1, 6, kernel_size=(3, 3), stride=(1, 1))\n",
              "  (conv2): Conv2d(6, 16, kernel_size=(3, 3), stride=(1, 1))\n",
              "  (fc1): Linear(in_features=400, out_features=120, bias=True)\n",
              "  (fc2): Linear(in_features=120, out_features=80, bias=True)\n",
              "  (fc3): Linear(in_features=80, out_features=10, bias=True)\n",
              ")"
            ]
          },
          "metadata": {},
          "execution_count": 20
        }
      ]
    },
    {
      "cell_type": "code",
      "source": [
        "# Loss Function and Optimizer\n",
        "criterion = nn.CrossEntropyLoss()\n",
        "optimizer = torch.optim.Adam(model.parameters(), lr=0.001)"
      ],
      "metadata": {
        "id": "RQdS88aMIFbH"
      },
      "execution_count": 21,
      "outputs": []
    },
    {
      "cell_type": "code",
      "source": [
        "import time\n",
        "start_time = time.time()\n",
        "epoch = 10\n",
        "train_loss = []\n",
        "test_loss = []\n",
        "train_correct = []\n",
        "test_correct = []\n",
        "\n",
        "for i in range(epoch):\n",
        "  trn_corr = 0\n",
        "  tst_corr = 0\n",
        "  for b, (X_train, y_train) in enumerate(train_loader):\n",
        "    b+=1\n",
        "    y_pred = model(X_train)\n",
        "    loss = criterion(y_pred, y_train)\n",
        "    predicted = torch.max(y_pred, 1)[1]\n",
        "    batch_corr = (predicted == y_train).sum()\n",
        "    trn_corr += batch_corr\n",
        "\n",
        "    optimizer.zero_grad()\n",
        "    loss.backward()\n",
        "    optimizer.step()\n",
        "\n",
        "    if b%600 == 0:\n",
        "      print(f'epoch: {i} batch: {b} loss: {loss.item()}')\n",
        "  train_loss.append(loss)\n",
        "  train_correct.append(trn_corr)\n",
        "\n",
        "  #Test Data\n",
        "  with torch.no_grad():\n",
        "    for b, (X_test, y_test) in enumerate(test_loader):\n",
        "      y_val = model(X_test)\n",
        "      predicted = torch.max(y_val, 1)[1]\n",
        "      tst_corr += (predicted == y_test).sum()\n",
        "\n",
        "    loss = criterion(y_val, y_test)\n",
        "    test_loss.append(loss)\n",
        "    test_correct.append(tst_corr)\n",
        "\n",
        "current_time = time.time()\n",
        "time_elapsed = current_time - start_time\n",
        "print(f'{time_elapsed/60} minutes')"
      ],
      "metadata": {
        "colab": {
          "base_uri": "https://localhost:8080/"
        },
        "id": "ob4mHV42IpFx",
        "outputId": "61bbbe79-8a12-4b37-e33a-2e0f204d0f53"
      },
      "execution_count": 22,
      "outputs": [
        {
          "output_type": "stream",
          "name": "stdout",
          "text": [
            "epoch: 0 batch: 600 loss: 0.42363038659095764\n",
            "epoch: 0 batch: 1200 loss: 0.13517162203788757\n",
            "epoch: 0 batch: 1800 loss: 0.08646711707115173\n",
            "epoch: 0 batch: 2400 loss: 0.019638050347566605\n",
            "epoch: 0 batch: 3000 loss: 0.11082316935062408\n",
            "epoch: 0 batch: 3600 loss: 0.1635095626115799\n",
            "epoch: 0 batch: 4200 loss: 0.15705910325050354\n",
            "epoch: 0 batch: 4800 loss: 0.024286070838570595\n",
            "epoch: 0 batch: 5400 loss: 0.00040444801561534405\n",
            "epoch: 0 batch: 6000 loss: 0.010546172969043255\n",
            "epoch: 1 batch: 600 loss: 0.005669584032148123\n",
            "epoch: 1 batch: 1200 loss: 0.02064889296889305\n",
            "epoch: 1 batch: 1800 loss: 0.0010841143084689975\n",
            "epoch: 1 batch: 2400 loss: 0.02077571675181389\n",
            "epoch: 1 batch: 3000 loss: 0.0024572669062763453\n",
            "epoch: 1 batch: 3600 loss: 0.02407272532582283\n",
            "epoch: 1 batch: 4200 loss: 0.005896934308111668\n",
            "epoch: 1 batch: 4800 loss: 0.003934015519917011\n",
            "epoch: 1 batch: 5400 loss: 0.011879149824380875\n",
            "epoch: 1 batch: 6000 loss: 0.006053473800420761\n",
            "epoch: 2 batch: 600 loss: 0.06685416400432587\n",
            "epoch: 2 batch: 1200 loss: 0.013137144967913628\n",
            "epoch: 2 batch: 1800 loss: 0.08509436249732971\n",
            "epoch: 2 batch: 2400 loss: 0.01346986461430788\n",
            "epoch: 2 batch: 3000 loss: 0.0007722847512923181\n",
            "epoch: 2 batch: 3600 loss: 0.0006275504711084068\n",
            "epoch: 2 batch: 4200 loss: 0.0020203168969601393\n",
            "epoch: 2 batch: 4800 loss: 0.0002632673131301999\n",
            "epoch: 2 batch: 5400 loss: 6.580304670933401e-06\n",
            "epoch: 2 batch: 6000 loss: 0.00039080926217138767\n",
            "epoch: 3 batch: 600 loss: 0.009334960952401161\n",
            "epoch: 3 batch: 1200 loss: 0.007628691382706165\n",
            "epoch: 3 batch: 1800 loss: 0.0003143628127872944\n",
            "epoch: 3 batch: 2400 loss: 0.0014895274071022868\n",
            "epoch: 3 batch: 3000 loss: 0.0002588132338132709\n",
            "epoch: 3 batch: 3600 loss: 0.0005279016331769526\n",
            "epoch: 3 batch: 4200 loss: 0.00022919979528523982\n",
            "epoch: 3 batch: 4800 loss: 0.0003902917087543756\n",
            "epoch: 3 batch: 5400 loss: 0.04761887341737747\n",
            "epoch: 3 batch: 6000 loss: 0.0017341471975669265\n",
            "epoch: 4 batch: 600 loss: 0.0037795440293848515\n",
            "epoch: 4 batch: 1200 loss: 0.0016297390684485435\n",
            "epoch: 4 batch: 1800 loss: 0.00023938673257362098\n",
            "epoch: 4 batch: 2400 loss: 0.017329607158899307\n",
            "epoch: 4 batch: 3000 loss: 9.584297913534101e-06\n",
            "epoch: 4 batch: 3600 loss: 0.019079972058534622\n",
            "epoch: 4 batch: 4200 loss: 0.0028900515753775835\n",
            "epoch: 4 batch: 4800 loss: 0.012005461379885674\n",
            "epoch: 4 batch: 5400 loss: 0.0018957334104925394\n",
            "epoch: 4 batch: 6000 loss: 0.0036905661690980196\n",
            "epoch: 5 batch: 600 loss: 0.009081173688173294\n",
            "epoch: 5 batch: 1200 loss: 0.0008928357856348157\n",
            "epoch: 5 batch: 1800 loss: 2.8000615202472545e-05\n",
            "epoch: 5 batch: 2400 loss: 0.0021416456438601017\n",
            "epoch: 5 batch: 3000 loss: 0.0005677771987393498\n",
            "epoch: 5 batch: 3600 loss: 0.0005010827444493771\n",
            "epoch: 5 batch: 4200 loss: 0.000464282144093886\n",
            "epoch: 5 batch: 4800 loss: 0.06865321099758148\n",
            "epoch: 5 batch: 5400 loss: 0.00020736936130560935\n",
            "epoch: 5 batch: 6000 loss: 0.0026949134189635515\n",
            "epoch: 6 batch: 600 loss: 3.654606916825287e-05\n",
            "epoch: 6 batch: 1200 loss: 4.49870276497677e-05\n",
            "epoch: 6 batch: 1800 loss: 0.00012863680603913963\n",
            "epoch: 6 batch: 2400 loss: 0.0018885685130953789\n",
            "epoch: 6 batch: 3000 loss: 0.039119139313697815\n",
            "epoch: 6 batch: 3600 loss: 6.929237861186266e-05\n",
            "epoch: 6 batch: 4200 loss: 0.0008941888809204102\n",
            "epoch: 6 batch: 4800 loss: 0.0006694344338029623\n",
            "epoch: 6 batch: 5400 loss: 0.00015384329890366644\n",
            "epoch: 6 batch: 6000 loss: 0.00019738872651942074\n",
            "epoch: 7 batch: 600 loss: 0.003934801556169987\n",
            "epoch: 7 batch: 1200 loss: 0.00266710645519197\n",
            "epoch: 7 batch: 1800 loss: 0.014935781247913837\n",
            "epoch: 7 batch: 2400 loss: 0.3280213177204132\n",
            "epoch: 7 batch: 3000 loss: 0.00038854978629387915\n",
            "epoch: 7 batch: 3600 loss: 0.0002167922502849251\n",
            "epoch: 7 batch: 4200 loss: 0.0002737886970862746\n",
            "epoch: 7 batch: 4800 loss: 9.35769912757678e-06\n",
            "epoch: 7 batch: 5400 loss: 0.000122431869385764\n",
            "epoch: 7 batch: 6000 loss: 0.050232768058776855\n",
            "epoch: 8 batch: 600 loss: 3.0278881695267046e-06\n",
            "epoch: 8 batch: 1200 loss: 1.6413845514762215e-05\n",
            "epoch: 8 batch: 1800 loss: 0.0060353404842317104\n",
            "epoch: 8 batch: 2400 loss: 0.012713233008980751\n",
            "epoch: 8 batch: 3000 loss: 3.7712441553594545e-05\n",
            "epoch: 8 batch: 3600 loss: 3.8146667975524906e-06\n",
            "epoch: 8 batch: 4200 loss: 6.198871460583177e-07\n",
            "epoch: 8 batch: 4800 loss: 0.05422189086675644\n",
            "epoch: 8 batch: 5400 loss: 4.684889518102864e-06\n",
            "epoch: 8 batch: 6000 loss: 2.6307516236556694e-05\n",
            "epoch: 9 batch: 600 loss: 4.76837058727142e-08\n",
            "epoch: 9 batch: 1200 loss: 0.002220750553533435\n",
            "epoch: 9 batch: 1800 loss: 0.00021220653434284031\n",
            "epoch: 9 batch: 2400 loss: 0.0003043001634068787\n",
            "epoch: 9 batch: 3000 loss: 4.194123175693676e-05\n",
            "epoch: 9 batch: 3600 loss: 0.02630985900759697\n",
            "epoch: 9 batch: 4200 loss: 5.614616384264082e-06\n",
            "epoch: 9 batch: 4800 loss: 1.430510820910058e-07\n",
            "epoch: 9 batch: 5400 loss: 0.02225690707564354\n",
            "epoch: 9 batch: 6000 loss: 2.9669638024643064e-05\n",
            "6.919531230131785 minutes\n"
          ]
        }
      ]
    },
    {
      "cell_type": "code",
      "source": [
        "# Graph loss vs epoch\n",
        "train_losses = [tl.item() for tl in train_loss]\n",
        "test_losses = [tl.item() for tl in test_loss]\n",
        "plt.plot(train_losses, label='train loss')\n",
        "plt.plot(test_losses, label='test loss')\n",
        "plt.title(\"Loss at Epoch\")\n",
        "plt.legend()"
      ],
      "metadata": {
        "colab": {
          "base_uri": "https://localhost:8080/",
          "height": 469
        },
        "id": "6bt519xLTiju",
        "outputId": "5e0b9f0b-f794-4762-a31d-519e59f9b55b"
      },
      "execution_count": 23,
      "outputs": [
        {
          "output_type": "execute_result",
          "data": {
            "text/plain": [
              "<matplotlib.legend.Legend at 0x7a6b37843ad0>"
            ]
          },
          "metadata": {},
          "execution_count": 23
        },
        {
          "output_type": "display_data",
          "data": {
            "text/plain": [
              "<Figure size 640x480 with 1 Axes>"
            ],
            "image/png": "[encoded data removed]"
          },
          "metadata": {}
        }
      ]
    },
    {
      "cell_type": "code",
      "source": [
        "# Graph accuracy at end of each epoch\n",
        "plt.plot([t/60000 for t in train_correct], label='train accuracy')\n",
        "plt.plot([t/10000 for t in test_correct], label='test accuracy')\n",
        "plt.title(\"Accuracy at Epoch\")\n",
        "plt.legend()"
      ],
      "metadata": {
        "colab": {
          "base_uri": "https://localhost:8080/",
          "height": 469
        },
        "id": "4N2psc-taIHS",
        "outputId": "61e3472c-dfaa-42ab-bf24-cdaedc12fcb6"
      },
      "execution_count": 26,
      "outputs": [
        {
          "output_type": "execute_result",
          "data": {
            "text/plain": [
              "<matplotlib.legend.Legend at 0x7a6b38246bd0>"
            ]
          },
          "metadata": {},
          "execution_count": 26
        },
        {
          "output_type": "display_data",
          "data": {
            "text/plain": [
              "<Figure size 640x480 with 1 Axes>"
            ],
            "image/png": "[encoded data removed]"
          },
          "metadata": {}
        }
      ]
    },
    {
      "cell_type": "code",
      "source": [
        "test_load_everything = DataLoader(test_data, batch_size=10000, shuffle=False)"
      ],
      "metadata": {
        "id": "CogTrptcchDI"
      },
      "execution_count": 27,
      "outputs": []
    },
    {
      "cell_type": "code",
      "source": [
        "with torch.no_grad():\n",
        "  correct= 0\n",
        "  for X_test, y_test in test_load_everything:\n",
        "    y_val = model(X_test)\n",
        "    predicted = torch.max(y_val, 1)[1]\n",
        "    correct += (predicted == y_test).sum()\n",
        "  print(f'Test Accuracy: {correct/10000}')\n"
      ],
      "metadata": {
        "colab": {
          "base_uri": "https://localhost:8080/"
        },
        "id": "LPp5oAyGb7h2",
        "outputId": "fdf8b985-1e3a-4578-f840-74151b810fbd"
      },
      "execution_count": 28,
      "outputs": [
        {
          "output_type": "stream",
          "name": "stdout",
          "text": [
            "Test Accuracy: 0.9886999726295471\n"
          ]
        }
      ]
    },
    {
      "cell_type": "code",
      "source": [],
      "metadata": {
        "id": "vUB_ildyc68P"
      },
      "execution_count": null,
      "outputs": []
    }
  ]
}